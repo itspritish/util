{
  "nbformat": 4,
  "nbformat_minor": 0,
  "metadata": {
    "colab": {
      "name": "k-fold-crossval.ipynb",
      "provenance": [],
      "include_colab_link": true
    },
    "kernelspec": {
      "name": "python3",
      "display_name": "Python 3"
    }
  },
  "cells": [
    {
      "cell_type": "markdown",
      "metadata": {
        "id": "view-in-github",
        "colab_type": "text"
      },
      "source": [
        "<a href=\"https://colab.research.google.com/github/itspritish/util/blob/master/k_fold_crossval.ipynb\" target=\"_parent\"><img src=\"https://colab.research.google.com/assets/colab-badge.svg\" alt=\"Open In Colab\"/></a>"
      ]
    },
    {
      "cell_type": "code",
      "metadata": {
        "id": "Ay537yPAO5l5",
        "colab_type": "code",
        "colab": {}
      },
      "source": [
        "from sklearn.linear_model import LinearRegression\n",
        "from sklearn.svm import SVC\n",
        "from sklearn.ensemble import RandomForestClassifier "
      ],
      "execution_count": 0,
      "outputs": []
    },
    {
      "cell_type": "code",
      "metadata": {
        "id": "Pf3G7vsiQ9a5",
        "colab_type": "code",
        "colab": {}
      },
      "source": [
        "import numpy as np\n",
        "from sklearn.datasets import load_digits\n",
        "import matplotlib.pyplot as plt\n",
        "digits = load_digits()"
      ],
      "execution_count": 0,
      "outputs": []
    },
    {
      "cell_type": "code",
      "metadata": {
        "id": "Q4NPla7KRH5h",
        "colab_type": "code",
        "colab": {}
      },
      "source": [
        "from sklearn.model_selection import train_test_split, cross_val_score\n"
      ],
      "execution_count": 0,
      "outputs": []
    },
    {
      "cell_type": "code",
      "metadata": {
        "id": "xeZ2xp7NXJHb",
        "colab_type": "code",
        "colab": {
          "base_uri": "https://localhost:8080/",
          "height": 34
        },
        "outputId": "ab41ac32-7c81-4fba-8ff1-d6219796c573"
      },
      "source": [
        "cross_val_score(RandomForestClassifier(n_estimators=10), digits.data, digits.target, cv=3) "
      ],
      "execution_count": 8,
      "outputs": [
        {
          "output_type": "execute_result",
          "data": {
            "text/plain": [
              "array([0.86378738, 0.9148581 , 0.90100671])"
            ]
          },
          "metadata": {
            "tags": []
          },
          "execution_count": 8
        }
      ]
    },
    {
      "cell_type": "code",
      "metadata": {
        "id": "oETNppgyYPaU",
        "colab_type": "code",
        "colab": {
          "base_uri": "https://localhost:8080/",
          "height": 34
        },
        "outputId": "8c5e812e-eb2b-4798-ae88-9cfbdecd7632"
      },
      "source": [
        "cross_val_score(SVC(gamma='auto'), digits.data, digits.target, cv=3 )"
      ],
      "execution_count": 11,
      "outputs": [
        {
          "output_type": "execute_result",
          "data": {
            "text/plain": [
              "array([0.39368771, 0.41068447, 0.45973154])"
            ]
          },
          "metadata": {
            "tags": []
          },
          "execution_count": 11
        }
      ]
    },
    {
      "cell_type": "code",
      "metadata": {
        "id": "UBOjVht-ZWjv",
        "colab_type": "code",
        "colab": {
          "base_uri": "https://localhost:8080/",
          "height": 34
        },
        "outputId": "0fbd91ca-5e4f-42a6-86eb-193e77e40305"
      },
      "source": [
        "cross_val_score(LinearRegression(), digits.data, digits.target, cv=3)"
      ],
      "execution_count": 10,
      "outputs": [
        {
          "output_type": "execute_result",
          "data": {
            "text/plain": [
              "array([0.52105031, 0.56814242, 0.41943985])"
            ]
          },
          "metadata": {
            "tags": []
          },
          "execution_count": 10
        }
      ]
    },
    {
      "cell_type": "code",
      "metadata": {
        "id": "2OSmJy26eh-E",
        "colab_type": "code",
        "colab": {
          "base_uri": "https://localhost:8080/",
          "height": 364
        },
        "outputId": "4085918b-ac8e-458e-f012-f7275177ca87"
      },
      "source": [
        "for i in range(5,10):\n",
        "  print('RFC:',np.average(cross_val_score(RandomForestClassifier(n_estimators=50), digits.data, digits.target, cv=i)) ) #Best\n",
        "  \n",
        "  print('SVC:',np.average(cross_val_score(SVC(gamma='auto'), digits.data, digits.target, cv=i)))#Worst\n",
        "  \n",
        "  print('LRC:',np.average(cross_val_score(LinearRegression(), digits.data, digits.target, cv=i))) #Worst-1\n",
        "  print('==================================================================')\n",
        "  \n",
        "\n",
        "\n"
      ],
      "execution_count": 23,
      "outputs": [
        {
          "output_type": "stream",
          "text": [
            "RFC: 0.9299780988793949\n",
            "SVC: 0.44878680061604637\n",
            "LRC: 0.5065567550630692\n",
            "==================================================================\n",
            "RFC: 0.9371710165847168\n",
            "SVC: 0.47266565334061905\n",
            "LRC: 0.5196255191361833\n",
            "==================================================================\n",
            "RFC: 0.934280665393857\n",
            "SVC: 0.4411009490588834\n",
            "LRC: 0.5145579799577943\n",
            "==================================================================\n",
            "RFC: 0.9426397694476627\n",
            "SVC: 0.4739728537448459\n",
            "LRC: 0.5303557272641248\n",
            "==================================================================\n",
            "RFC: 0.9455510422535434\n",
            "SVC: 0.4825410045328792\n",
            "LRC: 0.5230194589196412\n",
            "==================================================================\n"
          ],
          "name": "stdout"
        }
      ]
    }
  ]
}