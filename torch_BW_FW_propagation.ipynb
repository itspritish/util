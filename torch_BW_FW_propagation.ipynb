{
  "nbformat": 4,
  "nbformat_minor": 0,
  "metadata": {
    "colab": {
      "name": "torch_BW_FW_propagation.ipynb",
      "version": "0.3.2",
      "provenance": [],
      "include_colab_link": true
    },
    "kernelspec": {
      "name": "python3",
      "display_name": "Python 3"
    }
  },
  "cells": [
    {
      "cell_type": "markdown",
      "metadata": {
        "id": "view-in-github",
        "colab_type": "text"
      },
      "source": [
        "<a href=\"https://colab.research.google.com/github/itspritish/util/blob/master/torch_BW_FW_propagation.ipynb\" target=\"_parent\"><img src=\"https://colab.research.google.com/assets/colab-badge.svg\" alt=\"Open In Colab\"/></a>"
      ]
    },
    {
      "cell_type": "code",
      "metadata": {
        "id": "ael21e67uqDj",
        "colab_type": "code",
        "colab": {}
      },
      "source": [
        "import torch\n",
        "from torch.autograd import Variable"
      ],
      "execution_count": 0,
      "outputs": []
    },
    {
      "cell_type": "code",
      "metadata": {
        "id": "LXZcnCEYv-rM",
        "colab_type": "code",
        "colab": {
          "base_uri": "https://localhost:8080/",
          "height": 34
        },
        "outputId": "43263e9b-88d5-482d-f5e0-3ed578c4f5f4"
      },
      "source": [
        "x_data = [1.0, 2.0, 3.0]\n",
        "y_data = [2.0, 4.0, 6.0]\n",
        "\n",
        "W = Variable(torch.tensor([1.0]), requires_grad=True)\n",
        "print(\"predict before training\", 4, forward(4).data[0])"
      ],
      "execution_count": 10,
      "outputs": [
        {
          "output_type": "stream",
          "text": [
            "predict before training 4 tensor(4.)\n"
          ],
          "name": "stdout"
        }
      ]
    },
    {
      "cell_type": "code",
      "metadata": {
        "id": "BRHJfUyk5XKA",
        "colab_type": "code",
        "colab": {}
      },
      "source": [
        "def forward(X):\n",
        "  return X*W\n",
        "  "
      ],
      "execution_count": 0,
      "outputs": []
    },
    {
      "cell_type": "code",
      "metadata": {
        "id": "_6YOTAXD5g7x",
        "colab_type": "code",
        "colab": {}
      },
      "source": [
        "def loss(x,y):\n",
        "  \n",
        "  y_pred = forward(x)\n",
        "  loss = (y_pred - y) * (y_pred - y) \n",
        "  \n",
        "  return loss"
      ],
      "execution_count": 0,
      "outputs": []
    },
    {
      "cell_type": "code",
      "metadata": {
        "id": "LsPCE9b0AYg4",
        "colab_type": "code",
        "colab": {
          "base_uri": "https://localhost:8080/",
          "height": 697
        },
        "outputId": "dfa0000a-3fc6-4bc0-a79c-5a2712d6b1d5"
      },
      "source": [
        "for epoch in range(10):\n",
        "\n",
        "  for x_val, y_val in zip(x_data, y_data):\n",
        "    l = loss(x_val, y_val)\n",
        "    l.backward()\n",
        "    print('grad:', x_val, y_val, W.grad.data[0])\n",
        "    W.data = W.data - 0.01 * W.grad.data\n",
        "    \n",
        "    W.grad.data.zero_()\n",
        "    \n",
        "  print('progress', epoch, l.data[0])"
      ],
      "execution_count": 11,
      "outputs": [
        {
          "output_type": "stream",
          "text": [
            "grad: 1.0 2.0 tensor(-2.)\n",
            "grad: 2.0 4.0 tensor(-7.8400)\n",
            "grad: 3.0 6.0 tensor(-16.2288)\n",
            "progress 0 tensor(7.3159)\n",
            "grad: 1.0 2.0 tensor(-1.4786)\n",
            "grad: 2.0 4.0 tensor(-5.7962)\n",
            "grad: 3.0 6.0 tensor(-11.9981)\n",
            "progress 1 tensor(3.9988)\n",
            "grad: 1.0 2.0 tensor(-1.0932)\n",
            "grad: 2.0 4.0 tensor(-4.2852)\n",
            "grad: 3.0 6.0 tensor(-8.8704)\n",
            "progress 2 tensor(2.1857)\n",
            "grad: 1.0 2.0 tensor(-0.8082)\n",
            "grad: 2.0 4.0 tensor(-3.1681)\n",
            "grad: 3.0 6.0 tensor(-6.5580)\n",
            "progress 3 tensor(1.1946)\n",
            "grad: 1.0 2.0 tensor(-0.5975)\n",
            "grad: 2.0 4.0 tensor(-2.3422)\n",
            "grad: 3.0 6.0 tensor(-4.8484)\n",
            "progress 4 tensor(0.6530)\n",
            "grad: 1.0 2.0 tensor(-0.4417)\n",
            "grad: 2.0 4.0 tensor(-1.7316)\n",
            "grad: 3.0 6.0 tensor(-3.5845)\n",
            "progress 5 tensor(0.3569)\n",
            "grad: 1.0 2.0 tensor(-0.3266)\n",
            "grad: 2.0 4.0 tensor(-1.2802)\n",
            "grad: 3.0 6.0 tensor(-2.6500)\n",
            "progress 6 tensor(0.1951)\n",
            "grad: 1.0 2.0 tensor(-0.2414)\n",
            "grad: 2.0 4.0 tensor(-0.9465)\n",
            "grad: 3.0 6.0 tensor(-1.9592)\n",
            "progress 7 tensor(0.1066)\n",
            "grad: 1.0 2.0 tensor(-0.1785)\n",
            "grad: 2.0 4.0 tensor(-0.6997)\n",
            "grad: 3.0 6.0 tensor(-1.4485)\n",
            "progress 8 tensor(0.0583)\n",
            "grad: 1.0 2.0 tensor(-0.1320)\n",
            "grad: 2.0 4.0 tensor(-0.5173)\n",
            "grad: 3.0 6.0 tensor(-1.0709)\n",
            "progress 9 tensor(0.0319)\n"
          ],
          "name": "stdout"
        }
      ]
    }
  ]
}