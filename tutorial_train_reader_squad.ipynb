{
  "nbformat": 4,
  "nbformat_minor": 0,
  "metadata": {
    "hide_input": false,
    "kernelspec": {
      "display_name": "Python 3",
      "language": "python",
      "name": "python3"
    },
    "language_info": {
      "codemirror_mode": {
        "name": "ipython",
        "version": 3
      },
      "file_extension": ".py",
      "mimetype": "text/x-python",
      "name": "python",
      "nbconvert_exporter": "python",
      "pygments_lexer": "ipython3",
      "version": "3.7.0"
    },
    "toc": {
      "base_numbering": 1,
      "nav_menu": {},
      "number_sections": true,
      "sideBar": true,
      "skip_h1_title": false,
      "title_cell": "Table of Contents",
      "title_sidebar": "Contents",
      "toc_cell": false,
      "toc_position": {},
      "toc_section_display": true,
      "toc_window_display": false
    },
    "varInspector": {
      "cols": {
        "lenName": 16,
        "lenType": 16,
        "lenVar": 40
      },
      "kernels_config": {
        "python": {
          "delete_cmd_postfix": "",
          "delete_cmd_prefix": "del ",
          "library": "var_list.py",
          "varRefreshCmd": "print(var_dic_list())"
        },
        "r": {
          "delete_cmd_postfix": ") ",
          "delete_cmd_prefix": "rm(",
          "library": "var_list.r",
          "varRefreshCmd": "cat(var_dic_list()) "
        }
      },
      "types_to_exclude": [
        "module",
        "function",
        "builtin_function_or_method",
        "instance",
        "_Feature"
      ],
      "window_display": false
    },
    "colab": {
      "name": "tutorial-train-reader-squad.ipynb",
      "version": "0.3.2",
      "provenance": [],
      "include_colab_link": true
    }
  },
  "cells": [
    {
      "cell_type": "markdown",
      "metadata": {
        "id": "view-in-github",
        "colab_type": "text"
      },
      "source": [
        "<a href=\"https://colab.research.google.com/github/itspritish/util/blob/master/tutorial_train_reader_squad.ipynb\" target=\"_parent\"><img src=\"https://colab.research.google.com/assets/colab-badge.svg\" alt=\"Open In Colab\"/></a>"
      ]
    },
    {
      "cell_type": "markdown",
      "metadata": {
        "id": "pKet-NpLR_SS",
        "colab_type": "text"
      },
      "source": [
        "# Notebook [3]: Training the reader on the SQuAD v1.1 dataset"
      ]
    },
    {
      "cell_type": "markdown",
      "metadata": {
        "id": "Q0yDCFrGR_SV",
        "colab_type": "text"
      },
      "source": [
        "This notebook shows how to fine-tune a pre-trained BERT model on the SQuAD."
      ]
    },
    {
      "cell_type": "markdown",
      "metadata": {
        "id": "6GK_uogFR_SV",
        "colab_type": "text"
      },
      "source": [
        "***Note:*** *To run this notebook you will need to have access to GPU. The fine-tuning of the Reader was done with an AWS EC2 p3.2xlarge machine (GPU Tesla V100 16GB). It took about 2 hours to complete (2 epochs on SQuAD 1.1 train was enough to achieve SOTA results on SQuAD 1.1 dev).*"
      ]
    },
    {
      "cell_type": "code",
      "metadata": {
        "ExecuteTime": {
          "end_time": "2019-07-20T13:45:44.624084Z",
          "start_time": "2019-07-20T13:45:41.394789Z"
        },
        "id": "_dLAhbwgR_SW",
        "colab_type": "code",
        "outputId": "65cedfac-e185-45e2-8c5a-5e2fe46b0961",
        "colab": {}
      },
      "source": [
        "import os\n",
        "import torch\n",
        "from sklearn.externals import joblib\n",
        "from cdqa.reader.bertqa_sklearn import BertProcessor, BertQA\n",
        "from cdqa.utils.download import download_squad"
      ],
      "execution_count": 0,
      "outputs": [
        {
          "output_type": "stream",
          "text": [
            "/Users/andre.farias/python3.7.0/lib/python3.7/site-packages/sklearn/externals/joblib/__init__.py:15: DeprecationWarning: sklearn.externals.joblib is deprecated in 0.21 and will be removed in 0.23. Please import this functionality directly from joblib, which can be installed with: pip install joblib. If this warning is raised when loading pickled models, you may need to re-serialize those models with scikit-learn 0.21+.\n",
            "  warnings.warn(msg, category=DeprecationWarning)\n",
            "/Users/andre.farias/python3.7.0/lib/python3.7/site-packages/tqdm/autonotebook/__init__.py:18: TqdmExperimentalWarning: Using `tqdm.autonotebook.tqdm` in notebook mode. Use `tqdm.tqdm` instead to force console mode (e.g. in jupyter console)\n",
            "  \" (e.g. in jupyter console)\", TqdmExperimentalWarning)\n"
          ],
          "name": "stderr"
        }
      ]
    },
    {
      "cell_type": "markdown",
      "metadata": {
        "id": "q5LyTTGvR_Sb",
        "colab_type": "text"
      },
      "source": [
        "### Download SQuAD datasets"
      ]
    },
    {
      "cell_type": "code",
      "metadata": {
        "ExecuteTime": {
          "end_time": "2019-07-20T13:46:13.505754Z",
          "start_time": "2019-07-20T13:46:00.589821Z"
        },
        "id": "m7PDB1K2R_Sb",
        "colab_type": "code",
        "outputId": "786c9521-f2b6-413e-f2e2-c0963d36c539",
        "colab": {}
      },
      "source": [
        "download_squad(dir='./data')"
      ],
      "execution_count": 0,
      "outputs": [
        {
          "output_type": "stream",
          "text": [
            "Downloading SQuAD v1.1 data...\n",
            "\n",
            "Downloading SQuAD v2.0 data...\n"
          ],
          "name": "stdout"
        }
      ]
    },
    {
      "cell_type": "markdown",
      "metadata": {
        "id": "RbsUDYkvR_Se",
        "colab_type": "text"
      },
      "source": [
        "### Preprocess SQuAD 1.1 examples"
      ]
    },
    {
      "cell_type": "code",
      "metadata": {
        "ExecuteTime": {
          "end_time": "2019-07-20T13:58:36.512980Z",
          "start_time": "2019-07-20T13:46:44.792080Z"
        },
        "id": "aXg2flCtR_Sf",
        "colab_type": "code",
        "colab": {}
      },
      "source": [
        "train_processor = BertProcessor(do_lower_case=True, is_training=True)\n",
        "train_examples, train_features = train_processor.fit_transform(X='./data/SQuAD_1.1/train-v1.1.json')"
      ],
      "execution_count": 0,
      "outputs": []
    },
    {
      "cell_type": "markdown",
      "metadata": {
        "id": "DbWFjGcdR_Sh",
        "colab_type": "text"
      },
      "source": [
        "### Train the model"
      ]
    },
    {
      "cell_type": "code",
      "metadata": {
        "id": "H_oCxJ7rR_Si",
        "colab_type": "code",
        "colab": {}
      },
      "source": [
        "reader = BertQA(train_batch_size=12,\n",
        "                learning_rate=3e-5,\n",
        "                num_train_epochs=2,\n",
        "                do_lower_case=True,\n",
        "                output_dir='models')\n",
        "\n",
        "reader.fit(X=(train_examples, train_features))"
      ],
      "execution_count": 0,
      "outputs": []
    },
    {
      "cell_type": "markdown",
      "metadata": {
        "id": "yiThHYtTR_Sj",
        "colab_type": "text"
      },
      "source": [
        "### Send model to CPU"
      ]
    },
    {
      "cell_type": "code",
      "metadata": {
        "id": "E0o4Jk8lR_Sk",
        "colab_type": "code",
        "colab": {}
      },
      "source": [
        "reader.model.to('cpu')\n",
        "reader.device = torch.device('cpu')"
      ],
      "execution_count": 0,
      "outputs": []
    },
    {
      "cell_type": "markdown",
      "metadata": {
        "id": "L4ZFHPsvR_Sm",
        "colab_type": "text"
      },
      "source": [
        "### Save CPU model locally"
      ]
    },
    {
      "cell_type": "code",
      "metadata": {
        "id": "C3TyQ3HTR_Sn",
        "colab_type": "code",
        "colab": {}
      },
      "source": [
        "joblib.dump(reader, os.path.join(reader.output_dir, 'bert_qa_vCPU.joblib'))"
      ],
      "execution_count": 0,
      "outputs": []
    }
  ]
}